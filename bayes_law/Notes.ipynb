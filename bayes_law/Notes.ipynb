{
 "cells": [
  {
   "cell_type": "markdown",
   "metadata": {},
   "source": [
    "To Do:\n",
    "- discuss priors, posteriors, likelihoods\n",
    "- is there too much math? \n",
    "- do I need to review basic probabilities?\n",
    "- introduce motivation for Bayesian inference\n",
    "- how to think about models and model parameters in this framework\n",
    "- basics of exploring posterior to find maximum value\n",
    "- weave in Huff points that are relevant + important\n",
    "- complete references\n",
    "- Lay out learning goals at the start"
   ]
  },
  {
   "cell_type": "markdown",
   "metadata": {},
   "source": [
    "Learning goals:\n",
    "\n",
    "* Explain how Bayes rule allows you to update your knowledge based on new information\n",
    "* Recognize that priors and likelihoods are model _assumptions_\n",
    "* Apply basic Bayesian inference:\n",
    "    * contrustuct likelihoods from a word problem\n",
    "    * choose priors\n",
    "    * use Bayes rule to find posterior\n",
    "    "
   ]
  },
  {
   "cell_type": "markdown",
   "metadata": {},
   "source": [
    "Example ideas (for worked problems):\n",
    "* something which involves solving a problem twice with different priors to compare/constrast\n",
    "* Laplace's estimate of mass of Saturn? or spinoff of that on a grid\n",
    "* Things on a grid are good, lead up to the actual science cases we'll be using it for"
   ]
  },
  {
   "cell_type": "markdown",
   "metadata": {},
   "source": [
    "references:\n",
    "* Iveciv et al book\n",
    "* Huff book"
   ]
  },
  {
   "cell_type": "markdown",
   "metadata": {},
   "source": [
    "## DNA evidence in court\n",
    "\n",
    "Suppose you have been called up for jury duty. Someone has been accused of a crime, and the prosecution has admitted a DNA sample, found at the scene, as part of the evidence. This DNA contains a certain rare genetic marker – and the same marker has been found in the DNA of the accused! The prosecution rests its case.\n",
    "\n",
    "As a member of the jury, you must ask yourself: **what are the chances that the DNA would contain this rare marker, if the accused was, as claimed, guilty?** \n",
    "\n",
    "It is tempting to ask a different question, namely \"what is the probability that the accused is guilty based on this evidence?\" but as we will see below, this is not a question we have enough information to answer. Instead, we will settle for determining how significant this DNA evidence is. \n",
    "\n",
    "We will soon see how you should proceed, according to Bayesian statistics! "
   ]
  },
  {
   "cell_type": "markdown",
   "metadata": {},
   "source": [
    "## 1. Introduction to Bayes Law\n",
    "Bayes law is a simple but powerful tool in statistics – indeed, a whole subfield of statistics has been named after it! We will see in the following notes and examples how this powerful tool may be used in a variety of problems. In brief, Bayes rule tells us how to update our \"beliefs\", or the probability we assign to a certain thing being true, based on new information that we collect – new \"data\". \n",
    "\n",
    "### 1.1 Review of basic probability definitions\n",
    "A random variable is a variable whose value results from a random process, such as measuring a quantity that exhibits random variation. For example, the flux measured from a star will fluctuate due to processes in the atmosphere and detectors which introduce variation. In this way, the random variable can take on a set of possible values, each with some associated probability.\n",
    "\n",
    "The probability of some event a will be denoted $p(a)$ -- a canonical example of such an event is the outcome of a toin toss, e.g. a denotes heads, so $p(a)$ is the probability of getting heads when tossing your coin. Note that we could also assign a probability to a continuous event, e.g. the event is the value of a continuous variable falling in some finite interval around $b$. \n",
    "\n",
    "If we have two events a and b, we denote the probability that they are both true as $p(a,b)$. This is called the _joint_ probability.\n",
    "\n",
    "**need marginal probability $p(a) = \\int p(a,b)db$**\n",
    "\n",
    "We also may define a conditional probability: this is relevant for two events which are _dependent_ on each other, and gives the probability that one event will happen *in the case that the other event also happened*. For instance, the statement $p(a|b)=0.5$ tells us that if event $b$ is true, there is a 50% chance that event $a$ is also true. \n",
    "\n",
    "We can relate all the above probabilities together in the following way (a consquence of the basic axioms of probability!): for two dependent random variables $a$ and $b$,\n",
    "\n",
    "$$ p(a,b) = p(a|b)p(b) = p(b|a)p(a) $$\n",
    "\n",
    "### 1.2 Bayes Law\n",
    "Bayes law is a simply algebraic manipulation away from the above equation relating conditional probabilities:\n",
    "$$ p(b|a) = \\frac{p(a|b)p(b)}{p(a)} $$\n",
    "\n",
    "This is a straightforward application of rules of probability – but as we shall see, a powerful tool. \n",
    "\n",
    "**..Define and discuss the posterior, prior, and likelihood..**\n",
    "\n",
    "With this equation in mind, let's revisit our jury's problem."
   ]
  },
  {
   "cell_type": "markdown",
   "metadata": {},
   "source": [
    "### 1.3 DNA evidence in court; solved!\n",
    "\n",
    "We determined that the question the jury should consider is: what are the chances that the DNA would contain this rare marker, if the accused was, as claimed, guilty? We've just learned about Bayes Law, so let's see it in practice.\n",
    "\n",
    "First, we will define two variables for the problem. The variable G denotes the (true) guilt or innocence of the accused, G = 1, G = 0, respectively. The second variable, M is the outcome of the DNA match: M = 1 (DNA of accused matches sample found at the scene), M=0 (not a match).\n",
    "\n",
    "For legibility, we will define some more quantities according to this 2x2 table. For instance, $p(G=0|M=1) = \\epsilon_{FP}$. This corresponds to a positive match but an innocent accused – we can think of this as a false positive DNA test.\n",
    "\n",
    "|  |   G=1  &nbsp; &nbsp; &nbsp; &nbsp;|    G=0 &nbsp; &nbsp; &nbsp; &nbsp;|\n",
    "| --- | :-: | :-:|\n",
    "| **M=1** | $1 - \\epsilon_{FP}$ | $\\epsilon_{FP}$ |\n",
    "| **M=0** | $\\epsilon_{FN}$ | $1 - \\epsilon_{FN}$ |\n",
    "\n",
    "\n",
    "\n",
    "We also need some information about the prevalence of this rare genetic marker in the population at large: this probability that any person has this marker will be $p(M=1) = \\epsilon_M$.\n",
    "\n",
    "*Note that if we had asked whether the accused was guilty, given evidence, we would need to place a prior on their guilt. In other words, one would need to make some statement about the guilt of the accused before seeing any evidence – not something we recommend when their innocence is on the line!*\n",
    "\n",
    "The jury's question, above, may then be written as $p(M=1|G=1)$ – the probability that the DNA matches, given guilt.\n",
    "\n",
    "Using Bayes law:\n",
    "$$ p(M=1|G=1) = \\frac{p(G=1|M=1)p(M=1)}{p(G=1)} $$\n",
    "\n",
    "The denominator may be written, using marginal probability, as: $p(G=1) = p(G=1|M=1)p(M=1) + p(G=1|M=0)p(M=0)$.\n",
    "If we substitue our assumption of small values for each of these probabilities:\n",
    "\n",
    "$$ p(M=1|G=1) = \\frac{(1 - \\epsilon_{FP}) \\epsilon_{M}}{(1 - \\epsilon_{FP})\\epsilon_M + \\epsilon_{FN}(1-\\epsilon_M)} $$\n",
    "\n",
    "We've assumed that these probabilities are small: the marker is rare, and we think our DNA test has low false positive and false negative rates. Therefore, second order terms in $\\epsilon$ are insignificant:\n",
    "\n",
    "$$ p(M=1|G=1) = \\frac{\\epsilon_{M}}{\\epsilon_M + \\epsilon_{FN}}  = \\frac{1}{1+\\frac{\\epsilon_{FN}}{\\epsilon_M}}$$\n",
    "\n",
    "What does this result tell us? It all depends on the relative values of the false negative rate and the prevalence of this genetic marker in the population at large. \n",
    "\n",
    "If we assume $\\epsilon_{FN}>>\\epsilon_M$, then indeed $p(M=1|G=1)<<1$ and the evidence means very little: if the false negative rate of the DNA match is higher than the prevalence in the population, finding a match with crime scene DNA tells us very little about the accused.\n",
    "On the other hand, if $\\epsilon_{FN}<<\\epsilon_M$, which means the prevalence of the genetic marker is higher than the false negative rate, a positive match with the crime scene DNA becomes a more significant piece of evidence.\n",
    "\n",
    "Hopefully you can convince the rest of the jury that they should use Bayes Law to weigh the evidence!"
   ]
  },
  {
   "cell_type": "markdown",
   "metadata": {},
   "source": [
    "## 2. Bayesian inference\n",
    "\n",
    "highlight the idea of updating your knowledge with new information\n",
    "and present the idea of it being the natural way to view data fitting and parameter estimation/inference."
   ]
  },
  {
   "cell_type": "markdown",
   "metadata": {},
   "source": [
    "introduce bayes law which includes data, information, model, and parameters (e.g. ch5 in Ivecic) \n",
    "and the idea of exploring parameter space to \"explore\" the posterior and find maximum a posteriori estimates"
   ]
  },
  {
   "cell_type": "markdown",
   "metadata": {},
   "source": [
    "Quotes from Huff:\n",
    "- We often use probabilities informally to express our information and beliefs about unknown quantities. However, the use of probabilities to express infor- mation can be made formal: In a precise mathematical sense, it can be shown that probabilities can numerically represent a set of rational beliefs, that there is a relationship between probability and information, and that Bayes’ rule provides a rational method for updating beliefs in light of new information. \n",
    "- After a dataset y is obtained, the information it contains can be used to decrease our uncertainty about the population characteristics. \n",
    "- The sample space Y is the set of all possible datasets, from which a single dataset y will result. The parameter space Θ is the set of possible parameter values, from which we hope to identify the value that best represents the true population characteristics. \n",
    "- For each numerical value θ ∈ Θ, our prior distribution p(θ) describes our belief that θ represents the true population characteristics. 2. For each θ ∈ Θ and y ∈ Y, our sampling model p(y|θ) describes our belief that y would be the outcome of our study if we knew θ to be true. Once we obtain the data y, the last step is to update our beliefs about θ: 3. For each numerical value of θ ∈ Θ, our posterior distribution p(θ|y) describes our belief that θ is the true value, having observed dataset y. \n",
    "- It is important to note that Bayes’ rule does not tell us what our beliefs should be, it tells us how they should change after seeing new information\n",
    "- Bayes’ rule is an optimal method of updating this person’s beliefs about θ given new infor- mation y.\n",
    "- (the posterior) is more peaked than p(θ) because it combines information from the data and the prior distribution, and thus contains more information than in p(θ) alone"
   ]
  }
 ],
 "metadata": {
  "kernelspec": {
   "display_name": "Python 3",
   "language": "python",
   "name": "python3"
  },
  "language_info": {
   "codemirror_mode": {
    "name": "ipython",
    "version": 3
   },
   "file_extension": ".py",
   "mimetype": "text/x-python",
   "name": "python",
   "nbconvert_exporter": "python",
   "pygments_lexer": "ipython3",
   "version": "3.7.6"
  }
 },
 "nbformat": 4,
 "nbformat_minor": 4
}
