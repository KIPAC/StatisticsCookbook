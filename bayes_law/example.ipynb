{
 "cells": [
  {
   "cell_type": "markdown",
   "metadata": {},
   "source": [
    "To Do:\n",
    "\n",
    "- set up likelihood \n",
    "- set up grid\n",
    "- see if I can get an inference working?\n",
    "- what can I tweak with the prior for it to be interesting?\n",
    "- what if I tweak the quantity of data to show how the prior changes\n",
    "- would this work better in log space, since numb"
   ]
  },
  {
   "cell_type": "markdown",
   "metadata": {},
   "source": [
    "Often cited that Laplace was one of the first to use Bayesian statistics when he estimate the mass of Saturn – and that his estimate remains consisten with modern measurements! Let's walk through this same problem and see how we might do it with modern methods. "
   ]
  },
  {
   "cell_type": "markdown",
   "metadata": {},
   "source": [
    "the steps for Bayesian inference:\n",
    "- express the problem in symbolic form\n",
    "- write down assumptions about the data/problem\n",
    "- decide on a prior\n",
    "- write down the likelihood\n",
    "- use some method to find explore the posterior\n",
    "- state some ways of quantifying your best parameter estimates"
   ]
  },
  {
   "cell_type": "code",
   "execution_count": 2,
   "metadata": {},
   "outputs": [],
   "source": [
    "import numpy as np\n",
    "import matplotlib.pyplot as plt\n",
    "import scipy.stats as st"
   ]
  },
  {
   "cell_type": "code",
   "execution_count": 55,
   "metadata": {},
   "outputs": [],
   "source": [
    "def draw_kepler_constant():\n",
    "    mean_val = 7.496e-6 # units of AU^3/day^2\n",
    "    return mean_val + np.random.normal(scale=8e-9, size=50)\n",
    "\n",
    "def saturn_mass(kep):\n",
    "    '''calculate saturn's mass given constant for kepler's 2nd law'''\n",
    "    G = 6.6743e-11 * (1.496e+11)**(-3) * (24*60*60)**2 # AU^3 per kg per day^2\n",
    "    Msun = 1.988e30 # kg\n",
    "    \n",
    "    nom = kep * np.pi**2 * 4\n",
    "    gmsat = nom - G*Msun\n",
    "    return gmsat/G\n",
    "    "
   ]
  },
  {
   "cell_type": "code",
   "execution_count": 56,
   "metadata": {},
   "outputs": [
    {
     "data": {
      "text/plain": [
       "<function matplotlib.pyplot.show(*args, **kw)>"
      ]
     },
     "execution_count": 56,
     "metadata": {},
     "output_type": "execute_result"
    },
    {
     "data": {
      "image/png": "[encoded data removed]",
      "text/plain": [
       "<Figure size 864x288 with 2 Axes>"
      ]
     },
     "metadata": {
      "needs_background": "light"
     },
     "output_type": "display_data"
    }
   ],
   "source": [
    "## TO DO: just make a second axis on the first plot showing the estimates of mass? since it's linear\n",
    "\n",
    "## TO DO: why don't the measurements match the real value? 5.683 × 10^26 kg -- maybe this is close enough?\n",
    "\n",
    "f, (ax1, ax2) = plt.subplots(1,2, figsize=(12,4))\n",
    "\n",
    "constants = draw_kepler_constant()\n",
    "ax1.hist(constants*1e6, alpha=0.5)\n",
    "ax1.set_xlabel('kepler constant measurements x $10^{-6}$', fontsize=12)\n",
    "ax2.hist(saturn_mass(constants), alpha=0.5)\n",
    "ax2.set_xlabel('estimates of Saturn mass', fontsize=12)\n",
    "\n",
    "plt.show"
   ]
  },
  {
   "cell_type": "markdown",
   "metadata": {},
   "source": [
    "Conclude: lots more detail to Bayesian inference. Usually we can't explore the posterior numerically because the evidence is difficult and expensive to caculate. Use sampling methods instead.\n",
    "In additions, lots more discussion to be had on choosing priors, model selection, and quantifying uncertainty. "
   ]
  }
 ],
 "metadata": {
  "kernelspec": {
   "display_name": "Python 3",
   "language": "python",
   "name": "python3"
  },
  "language_info": {
   "codemirror_mode": {
    "name": "ipython",
    "version": 3
   },
   "file_extension": ".py",
   "mimetype": "text/x-python",
   "name": "python",
   "nbconvert_exporter": "python",
   "pygments_lexer": "ipython3",
   "version": "3.7.6"
  }
 },
 "nbformat": 4,
 "nbformat_minor": 4
}
